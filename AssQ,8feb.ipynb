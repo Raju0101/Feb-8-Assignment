{
 "cells": [
  {
   "cell_type": "markdown",
   "id": "a26bbb8f-92f6-4c3d-8493-888d497dddb4",
   "metadata": {},
   "source": [
    "##Assignment- 8 Feb-23,"
   ]
  },
  {
   "cell_type": "markdown",
   "id": "1cc02620-7b30-4d66-9713-99f9dfe6b8d6",
   "metadata": {},
   "source": [
    "# Q-1: What is Abstraction in OOps? Explain with an example"
   ]
  },
  {
   "cell_type": "code",
   "execution_count": 2,
   "id": "831fcc34-d0c0-4724-a9fb-25ce90b07584",
   "metadata": {},
   "outputs": [],
   "source": [
    "# Abstraction is a hidden feature, it hide the internal process to make the code easy.\n",
    "# ex_ Starting of a Car is a abstraction, we just turning the key , \n",
    "# and car starts, even we dont know the internal process of Engine, how the car is starting."
   ]
  },
  {
   "cell_type": "markdown",
   "id": "6eb37773-12f8-4b1e-a55b-2a3fd950e20e",
   "metadata": {},
   "source": [
    "## Q2. Differentiate between Abstraction and Encapsulation. Explain with an example"
   ]
  },
  {
   "cell_type": "code",
   "execution_count": 4,
   "id": "832a05ef-c19e-472e-8992-4f516048d084",
   "metadata": {},
   "outputs": [],
   "source": [
    "## Abstraction is a design level process and it is used to reduce the complexity at \n",
    "## the designing stage of a project. Encapsulation is an implementation level process, \n",
    "## and it is used to provide privacy and maintain control over the transparency \n",
    "## of data at the implementation stage of a project."
   ]
  },
  {
   "cell_type": "markdown",
   "id": "2c5a2d7c-5da4-4d77-9a59-98f5e39d63e6",
   "metadata": {},
   "source": [
    "## Q3. What is abc module in python? Why is it used?"
   ]
  },
  {
   "cell_type": "code",
   "execution_count": null,
   "id": "76d0ba65-de83-41b0-a0e0-a668a6fc5d6c",
   "metadata": {},
   "outputs": [],
   "source": [
    "## We use Metaclass for defining Abstract Base Classes (ABCs). Use this metaclass to create an ABC. \n",
    "## An ABC can be subclassed directly, and then acts as a mix-in class."
   ]
  },
  {
   "cell_type": "markdown",
   "id": "ebaa3e44-92c5-44be-8e9d-c9721d0f9f67",
   "metadata": {},
   "source": [
    "## Q4. How can we achieve data abstraction?"
   ]
  },
  {
   "cell_type": "code",
   "execution_count": 8,
   "id": "a86f9115-6341-408f-b6c8-abc1dbd0660a",
   "metadata": {},
   "outputs": [],
   "source": [
    "## Data Abstraction in Python can be achieved through creating abstract classes and inheriting them later. "
   ]
  },
  {
   "cell_type": "markdown",
   "id": "e96af25c-7764-40b5-ac9b-6b0d6ad3cdb2",
   "metadata": {},
   "source": [
    "## Q5. Can we create an instance of an abstract class? Explain your answer."
   ]
  },
  {
   "cell_type": "code",
   "execution_count": null,
   "id": "975bb4f3-7395-4b6f-8abf-f0a995bf51d3",
   "metadata": {},
   "outputs": [],
   "source": [
    "## We can not ereate instance of an abstract class but we can subclassed it."
   ]
  }
 ],
 "metadata": {
  "kernelspec": {
   "display_name": "Python 3 (ipykernel)",
   "language": "python",
   "name": "python3"
  },
  "language_info": {
   "codemirror_mode": {
    "name": "ipython",
    "version": 3
   },
   "file_extension": ".py",
   "mimetype": "text/x-python",
   "name": "python",
   "nbconvert_exporter": "python",
   "pygments_lexer": "ipython3",
   "version": "3.10.8"
  }
 },
 "nbformat": 4,
 "nbformat_minor": 5
}
